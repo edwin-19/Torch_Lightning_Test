{
 "cells": [
  {
   "cell_type": "code",
   "execution_count": 1,
   "id": "honest-festival",
   "metadata": {},
   "outputs": [],
   "source": [
    "from transformers import DistilBertModel, DistilBertTokenizer, Trainer, TrainingArguments, DistilBertForSequenceClassification\n",
    "from transformers import AutoModelForSequenceClassification, AutoTokenizer\n",
    "import torch\n",
    "import torch.nn as nn\n",
    "from torch.nn import functional as f\n",
    "import numpy as np\n",
    "from torch.utils.data import Dataset\n",
    "\n",
    "from sklearn.model_selection import train_test_split\n",
    "from sklearn.metrics import confusion_matrix, classification_report, matthews_corrcoef\n",
    "import pandas as pd\n",
    "import pytorch_lightning as pl\n",
    "import orjson\n",
    "import seaborn as sns\n",
    "from matplotlib import pyplot as plt\n",
    "\n",
    "from datasets import Dataset, DatasetDict\n",
    "from datasets import load_metric\n",
    "from torchmetrics import functional as F"
   ]
  },
  {
   "cell_type": "markdown",
   "id": "played-mobility",
   "metadata": {},
   "source": [
    "# Build Model"
   ]
  },
  {
   "cell_type": "code",
   "execution_count": 2,
   "id": "breeding-addition",
   "metadata": {},
   "outputs": [],
   "source": [
    "# Hmm cant use custom model with trainer unless i create my own custom trainer\n",
    "class DistilFakeBert(nn.Module):\n",
    "    def __init__(self):\n",
    "        super(DistilFakeBert, self).__init__()\n",
    "        \n",
    "        self.distil_bert = DistilBertModel.from_pretrained('distilbert-base-uncased')\n",
    "        self.dropout = nn.Dropout(0.25)\n",
    "        self.fc1 = nn.Linear(768, 256)\n",
    "        self.relu = nn.ReLU()\n",
    "        self.output = nn.Linear(256, 2)\n",
    "        \n",
    "    def forward(self, input_ids, attention_mask):\n",
    "        embeddings = self.distil_bert(\n",
    "            input_ids, attention_mask=attention_mask\n",
    "        )[0][:, 0]\n",
    "        embeddings = self.fc1(embeddings)\n",
    "        embeddings = self.relu(embeddings)\n",
    "        embeddings = self.dropout(embeddings)\n",
    "        output = self.output(embeddings)\n",
    "        \n",
    "        return output"
   ]
  },
  {
   "cell_type": "code",
   "execution_count": 3,
   "id": "dying-disposition",
   "metadata": {},
   "outputs": [
    {
     "name": "stderr",
     "output_type": "stream",
     "text": [
      "Some weights of the model checkpoint at distilbert-base-uncased were not used when initializing DistilBertForSequenceClassification: ['vocab_transform.weight', 'vocab_transform.bias', 'vocab_layer_norm.weight', 'vocab_layer_norm.bias', 'vocab_projector.weight', 'vocab_projector.bias']\n",
      "- This IS expected if you are initializing DistilBertForSequenceClassification from the checkpoint of a model trained on another task or with another architecture (e.g. initializing a BertForSequenceClassification model from a BertForPreTraining model).\n",
      "- This IS NOT expected if you are initializing DistilBertForSequenceClassification from the checkpoint of a model that you expect to be exactly identical (initializing a BertForSequenceClassification model from a BertForSequenceClassification model).\n",
      "Some weights of DistilBertForSequenceClassification were not initialized from the model checkpoint at distilbert-base-uncased and are newly initialized: ['pre_classifier.weight', 'pre_classifier.bias', 'classifier.weight', 'classifier.bias']\n",
      "You should probably TRAIN this model on a down-stream task to be able to use it for predictions and inference.\n"
     ]
    }
   ],
   "source": [
    "# model = DistilFakeBert()\n",
    "model = AutoModelForSequenceClassification.from_pretrained('distilbert-base-uncased', num_labels=2)\n",
    "tokenizer = AutoTokenizer.from_pretrained('distilbert-base-uncased')"
   ]
  },
  {
   "cell_type": "markdown",
   "id": "crucial-health",
   "metadata": {},
   "source": [
    "# Load data and transform"
   ]
  },
  {
   "cell_type": "code",
   "execution_count": 4,
   "id": "conceptual-organization",
   "metadata": {},
   "outputs": [],
   "source": [
    "df = pd.read_csv('data_text/news.csv')"
   ]
  },
  {
   "cell_type": "code",
   "execution_count": 5,
   "id": "eastern-gross",
   "metadata": {},
   "outputs": [],
   "source": [
    "label_index = {\n",
    "    'REAL':1,\n",
    "    'FAKE': 0\n",
    "}\n",
    "df['label'] = df['label'].apply(lambda x: label_index[x])"
   ]
  },
  {
   "cell_type": "code",
   "execution_count": 6,
   "id": "sized-spokesman",
   "metadata": {},
   "outputs": [],
   "source": [
    "text = df['text'].tolist()\n",
    "labels = df['label'].tolist()"
   ]
  },
  {
   "cell_type": "code",
   "execution_count": 7,
   "id": "twenty-dispatch",
   "metadata": {},
   "outputs": [],
   "source": [
    "train_text, valid_text, train_label, valid_label = train_test_split(text, labels, stratify=labels, random_state=2021, test_size=0.3)\n",
    "valid_text, test_text, valid_label, test_label = train_test_split(valid_text, valid_label, stratify=valid_label, random_state=2021, test_size=0.5)"
   ]
  },
  {
   "cell_type": "code",
   "execution_count": 8,
   "id": "satellite-johns",
   "metadata": {},
   "outputs": [],
   "source": [
    "data = {\n",
    "    'train': Dataset.from_dict({\n",
    "        'text': train_text,\n",
    "        'label': train_label\n",
    "    }),\n",
    "    'valid': Dataset.from_dict({\n",
    "        'text': valid_text,\n",
    "        'label': valid_label\n",
    "    }),\n",
    "    'test': Dataset.from_dict({\n",
    "        'text': test_text,\n",
    "        'label': test_label\n",
    "    })\n",
    "}"
   ]
  },
  {
   "cell_type": "code",
   "execution_count": 9,
   "id": "global-portable",
   "metadata": {},
   "outputs": [],
   "source": [
    "dataset = DatasetDict(data)"
   ]
  },
  {
   "cell_type": "code",
   "execution_count": 10,
   "id": "convinced-tennis",
   "metadata": {},
   "outputs": [],
   "source": [
    "# Write a tokenizer function\n",
    "def tokenize_data(data):\n",
    "    return tokenizer(\n",
    "        data['text'], truncation=True, max_length=300, padding='max_length', \n",
    "        add_special_tokens=True, \n",
    "    )"
   ]
  },
  {
   "cell_type": "code",
   "execution_count": 11,
   "id": "requested-domestic",
   "metadata": {},
   "outputs": [
    {
     "data": {
      "application/vnd.jupyter.widget-view+json": {
       "model_id": "4d930d7251ee433fa321fb1de8d2c2a8",
       "version_major": 2,
       "version_minor": 0
      },
      "text/plain": [
       "HBox(children=(FloatProgress(value=0.0, max=5.0), HTML(value='')))"
      ]
     },
     "metadata": {},
     "output_type": "display_data"
    },
    {
     "name": "stdout",
     "output_type": "stream",
     "text": [
      "\n"
     ]
    },
    {
     "data": {
      "application/vnd.jupyter.widget-view+json": {
       "model_id": "8fb4b263ebd44b26bb9409afc6928c2f",
       "version_major": 2,
       "version_minor": 0
      },
      "text/plain": [
       "HBox(children=(FloatProgress(value=0.0, max=1.0), HTML(value='')))"
      ]
     },
     "metadata": {},
     "output_type": "display_data"
    },
    {
     "name": "stdout",
     "output_type": "stream",
     "text": [
      "\n"
     ]
    },
    {
     "data": {
      "application/vnd.jupyter.widget-view+json": {
       "model_id": "41415153390943be89d32fc14d4ef7f9",
       "version_major": 2,
       "version_minor": 0
      },
      "text/plain": [
       "HBox(children=(FloatProgress(value=0.0, max=1.0), HTML(value='')))"
      ]
     },
     "metadata": {},
     "output_type": "display_data"
    },
    {
     "name": "stdout",
     "output_type": "stream",
     "text": [
      "\n"
     ]
    }
   ],
   "source": [
    "encoded_dataset = dataset.map(tokenize_data, batched=True)"
   ]
  },
  {
   "cell_type": "code",
   "execution_count": 12,
   "id": "growing-testing",
   "metadata": {},
   "outputs": [],
   "source": [
    "columns_to_return = ['input_ids', 'attention_mask', 'label']\n",
    "encoded_dataset.set_format(type='torch', columns=columns_to_return)\n",
    "encoded_dataset = encoded_dataset.remove_columns('text')"
   ]
  },
  {
   "cell_type": "code",
   "execution_count": 13,
   "id": "artificial-membership",
   "metadata": {},
   "outputs": [],
   "source": [
    "train_args = TrainingArguments(\n",
    "    'distil-classifier',\n",
    "    evaluation_strategy='epoch',\n",
    "    learning_rate=2e-5,\n",
    "    per_device_train_batch_size=32,\n",
    "    per_device_eval_batch_size=32,\n",
    "    num_train_epochs=3,\n",
    "    weight_decay=0.01,\n",
    "    load_best_model_at_end=True,\n",
    "    metric_for_best_model='accuracy',\n",
    "    report_to='none',\n",
    "    logging_steps=100\n",
    ")"
   ]
  },
  {
   "cell_type": "code",
   "execution_count": 14,
   "id": "light-wesley",
   "metadata": {},
   "outputs": [],
   "source": [
    "metric = load_metric('accuracy')"
   ]
  },
  {
   "cell_type": "code",
   "execution_count": 15,
   "id": "legislative-smoke",
   "metadata": {},
   "outputs": [],
   "source": [
    "def compute_metrics(eval_pred):\n",
    "    predictions, labels = eval_pred\n",
    "    predictions = np.argmax(predictions, axis=1)\n",
    "    return metric.compute(predictions=predictions, references=labels)"
   ]
  },
  {
   "cell_type": "code",
   "execution_count": 16,
   "id": "varying-benefit",
   "metadata": {},
   "outputs": [],
   "source": [
    "trainer = Trainer(\n",
    "    model, train_args, train_dataset=encoded_dataset['train'],\n",
    "    eval_dataset=encoded_dataset['valid'], tokenizer=tokenizer,\n",
    "    compute_metrics=compute_metrics\n",
    ")"
   ]
  },
  {
   "cell_type": "code",
   "execution_count": 17,
   "id": "written-opening",
   "metadata": {
    "scrolled": false
   },
   "outputs": [
    {
     "data": {
      "text/html": [
       "\n",
       "    <div>\n",
       "        <style>\n",
       "            /* Turns off some styling */\n",
       "            progress {\n",
       "                /* gets rid of default border in Firefox and Opera. */\n",
       "                border: none;\n",
       "                /* Needs to be in here for Safari polyfill so background images work as expected. */\n",
       "                background-size: auto;\n",
       "            }\n",
       "        </style>\n",
       "      \n",
       "      <progress value='417' max='417' style='width:300px; height:20px; vertical-align: middle;'></progress>\n",
       "      [417/417 04:59, Epoch 3/3]\n",
       "    </div>\n",
       "    <table border=\"1\" class=\"dataframe\">\n",
       "  <thead>\n",
       "    <tr style=\"text-align: left;\">\n",
       "      <th>Epoch</th>\n",
       "      <th>Training Loss</th>\n",
       "      <th>Validation Loss</th>\n",
       "      <th>Accuracy</th>\n",
       "      <th>Runtime</th>\n",
       "      <th>Samples Per Second</th>\n",
       "    </tr>\n",
       "  </thead>\n",
       "  <tbody>\n",
       "    <tr>\n",
       "      <td>1</td>\n",
       "      <td>0.289200</td>\n",
       "      <td>0.144289</td>\n",
       "      <td>0.953684</td>\n",
       "      <td>6.490400</td>\n",
       "      <td>146.369000</td>\n",
       "    </tr>\n",
       "    <tr>\n",
       "      <td>2</td>\n",
       "      <td>0.118700</td>\n",
       "      <td>0.130558</td>\n",
       "      <td>0.957895</td>\n",
       "      <td>6.476800</td>\n",
       "      <td>146.678000</td>\n",
       "    </tr>\n",
       "    <tr>\n",
       "      <td>3</td>\n",
       "      <td>0.044300</td>\n",
       "      <td>0.133363</td>\n",
       "      <td>0.960000</td>\n",
       "      <td>6.493800</td>\n",
       "      <td>146.293000</td>\n",
       "    </tr>\n",
       "  </tbody>\n",
       "</table><p>"
      ],
      "text/plain": [
       "<IPython.core.display.HTML object>"
      ]
     },
     "metadata": {},
     "output_type": "display_data"
    },
    {
     "data": {
      "text/plain": [
       "TrainOutput(global_step=417, training_loss=0.12795546272104022, metrics={'train_runtime': 299.9076, 'train_samples_per_second': 1.39, 'total_flos': 1603143977436000.0, 'epoch': 3.0, 'init_mem_cpu_alloc_delta': 1485656064, 'init_mem_gpu_alloc_delta': 268953088, 'init_mem_cpu_peaked_delta': 206442496, 'init_mem_gpu_peaked_delta': 0, 'train_mem_cpu_alloc_delta': 188301312, 'train_mem_gpu_alloc_delta': 1087688704, 'train_mem_cpu_peaked_delta': 347660288, 'train_mem_gpu_peaked_delta': 5488539648})"
      ]
     },
     "execution_count": 17,
     "metadata": {},
     "output_type": "execute_result"
    }
   ],
   "source": [
    "trainer.train()"
   ]
  },
  {
   "cell_type": "code",
   "execution_count": 18,
   "id": "quick-cornell",
   "metadata": {},
   "outputs": [
    {
     "data": {
      "text/html": [
       "\n",
       "    <div>\n",
       "        <style>\n",
       "            /* Turns off some styling */\n",
       "            progress {\n",
       "                /* gets rid of default border in Firefox and Opera. */\n",
       "                border: none;\n",
       "                /* Needs to be in here for Safari polyfill so background images work as expected. */\n",
       "                background-size: auto;\n",
       "            }\n",
       "        </style>\n",
       "      \n",
       "      <progress value='60' max='30' style='width:300px; height:20px; vertical-align: middle;'></progress>\n",
       "      [30/30 00:12]\n",
       "    </div>\n",
       "    "
      ],
      "text/plain": [
       "<IPython.core.display.HTML object>"
      ]
     },
     "metadata": {},
     "output_type": "display_data"
    },
    {
     "data": {
      "text/plain": [
       "{'eval_loss': 0.1333625465631485,\n",
       " 'eval_accuracy': 0.96,\n",
       " 'eval_runtime': 6.4477,\n",
       " 'eval_samples_per_second': 147.339,\n",
       " 'epoch': 3.0,\n",
       " 'eval_mem_cpu_alloc_delta': -81920,\n",
       " 'eval_mem_gpu_alloc_delta': 0,\n",
       " 'eval_mem_cpu_peaked_delta': 81920,\n",
       " 'eval_mem_gpu_peaked_delta': 483446272}"
      ]
     },
     "execution_count": 18,
     "metadata": {},
     "output_type": "execute_result"
    }
   ],
   "source": [
    "trainer.evaluate()"
   ]
  },
  {
   "cell_type": "markdown",
   "id": "respected-revelation",
   "metadata": {},
   "source": [
    "# Model evaluation"
   ]
  },
  {
   "cell_type": "code",
   "execution_count": 19,
   "id": "liberal-fraud",
   "metadata": {},
   "outputs": [],
   "source": [
    "preds = trainer.predict(encoded_dataset['test'])"
   ]
  },
  {
   "cell_type": "code",
   "execution_count": 20,
   "id": "monetary-america",
   "metadata": {},
   "outputs": [],
   "source": [
    "y_pred = preds.predictions.argmax(axis=1)"
   ]
  },
  {
   "cell_type": "code",
   "execution_count": 21,
   "id": "simplified-puzzle",
   "metadata": {},
   "outputs": [
    {
     "name": "stdout",
     "output_type": "stream",
     "text": [
      "              precision    recall  f1-score   support\n",
      "\n",
      "           0       0.98      0.94      0.96       475\n",
      "           1       0.94      0.98      0.96       476\n",
      "\n",
      "    accuracy                           0.96       951\n",
      "   macro avg       0.96      0.96      0.96       951\n",
      "weighted avg       0.96      0.96      0.96       951\n",
      "\n"
     ]
    }
   ],
   "source": [
    "print(classification_report(test_label, y_pred))"
   ]
  },
  {
   "cell_type": "code",
   "execution_count": 22,
   "id": "disciplinary-beatles",
   "metadata": {},
   "outputs": [
    {
     "data": {
      "text/plain": [
       "<AxesSubplot:>"
      ]
     },
     "execution_count": 22,
     "metadata": {},
     "output_type": "execute_result"
    },
    {
     "data": {
      "image/png": "[encoded data removed]",
      "text/plain": [
       "<Figure size 1080x720 with 2 Axes>"
      ]
     },
     "metadata": {
      "needs_background": "light"
     },
     "output_type": "display_data"
    }
   ],
   "source": [
    "plt.figure(figsize=(15, 10))\n",
    "sns.heatmap(confusion_matrix(test_label, y_pred), annot=True, fmt='3')"
   ]
  },
  {
   "cell_type": "code",
   "execution_count": 23,
   "id": "polish-salmon",
   "metadata": {},
   "outputs": [
    {
     "name": "stdout",
     "output_type": "stream",
     "text": [
      "MCC: 92.31\n"
     ]
    }
   ],
   "source": [
    "print('MCC: {}'.format(round(matthews_corrcoef(test_label, y_pred) * 100, 2)))"
   ]
  }
 ],
 "metadata": {
  "kernelspec": {
   "display_name": "Python 3",
   "language": "python",
   "name": "python3"
  },
  "language_info": {
   "codemirror_mode": {
    "name": "ipython",
    "version": 3
   },
   "file_extension": ".py",
   "mimetype": "text/x-python",
   "name": "python",
   "nbconvert_exporter": "python",
   "pygments_lexer": "ipython3",
   "version": "3.8.8"
  }
 },
 "nbformat": 4,
 "nbformat_minor": 5
}
