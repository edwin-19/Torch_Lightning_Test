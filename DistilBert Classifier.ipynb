{
 "cells": [
  {
   "cell_type": "code",
   "execution_count": 12,
   "id": "honest-festival",
   "metadata": {},
   "outputs": [],
   "source": [
    "import datasets\n",
    "from transformers import DistilBertModel, DistilBertTokenizer, Trainer\n",
    "import torch\n",
    "import torch.nn as nn\n",
    "\n",
    "import pandas as pd\n",
    "import pytorch_lightning as pl\n",
    "\n",
    "from datasets import Dataset\n",
    "from torchmetrics import functional as F"
   ]
  },
  {
   "cell_type": "markdown",
   "id": "played-mobility",
   "metadata": {},
   "source": [
    "# Build Model"
   ]
  },
  {
   "cell_type": "code",
   "execution_count": 57,
   "id": "breeding-addition",
   "metadata": {},
   "outputs": [],
   "source": [
    "class DistilFakeBert(nn.Module):\n",
    "    def __init__(self):\n",
    "        super(DistilFakeBert, self).__init__()\n",
    "        \n",
    "        self.distil_bert = DistilBertModel.from_pretrained('distilbert-base-uncased')\n",
    "        self.dropout = nn.Dropout(0.25)\n",
    "        self.fc1 = nn.Linear(768, 256)\n",
    "        self.relu = nn.ReLU()\n",
    "        self.output = nn.Linear(256, 2)\n",
    "        \n",
    "    def forward(self, input_ids, attention_mask):\n",
    "        embeddings = self.distil_bert(\n",
    "            input_ids, attention_mask=attention_mask\n",
    "        )[0][:, 0]\n",
    "        embeddings = self.fc1(embeddings)\n",
    "        embeddings = self.relu(embeddings)\n",
    "        embeddings = self.dropout(embeddings)\n",
    "        output = self.output(embeddings)\n",
    "        \n",
    "        return output"
   ]
  },
  {
   "cell_type": "code",
   "execution_count": 58,
   "id": "dying-disposition",
   "metadata": {},
   "outputs": [],
   "source": [
    "model = DistilFakeBert()\n",
    "tokenizer = DistilBertTokenizer.from_pretrained('distilbert-base-uncased')"
   ]
  },
  {
   "cell_type": "code",
   "execution_count": 59,
   "id": "negative-trout",
   "metadata": {},
   "outputs": [
    {
     "data": {
      "text/plain": [
       "tensor([[-0.1486, -0.0224]], grad_fn=<AddmmBackward>)"
      ]
     },
     "execution_count": 59,
     "metadata": {},
     "output_type": "execute_result"
    }
   ],
   "source": [
    "model(**inputs)"
   ]
  },
  {
   "cell_type": "code",
   "execution_count": 40,
   "id": "intermediate-dallas",
   "metadata": {},
   "outputs": [],
   "source": [
    "inputs = tokenizer.encode_plus(\n",
    "    dataset[0]['text'], truncation=True, max_length=300,\n",
    "    padding='max_length', return_tensors='pt', add_special_tokens=True\n",
    ")"
   ]
  },
  {
   "cell_type": "code",
   "execution_count": 3,
   "id": "conceptual-organization",
   "metadata": {},
   "outputs": [],
   "source": [
    "df = pd.read_csv('data_text/news.csv')"
   ]
  },
  {
   "cell_type": "code",
   "execution_count": 10,
   "id": "close-merit",
   "metadata": {},
   "outputs": [],
   "source": [
    "df = df.drop(df.columns[0], axis=1)"
   ]
  },
  {
   "cell_type": "code",
   "execution_count": 16,
   "id": "greek-earthquake",
   "metadata": {},
   "outputs": [],
   "source": [
    "dataset = Dataset.from_pandas(df)"
   ]
  }
 ],
 "metadata": {
  "kernelspec": {
   "display_name": "Python 3",
   "language": "python",
   "name": "python3"
  },
  "language_info": {
   "codemirror_mode": {
    "name": "ipython",
    "version": 3
   },
   "file_extension": ".py",
   "mimetype": "text/x-python",
   "name": "python",
   "nbconvert_exporter": "python",
   "pygments_lexer": "ipython3",
   "version": "3.8.8"
  }
 },
 "nbformat": 4,
 "nbformat_minor": 5
}
